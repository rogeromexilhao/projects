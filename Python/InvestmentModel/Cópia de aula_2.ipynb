{
 "cells": [
  {
   "cell_type": "markdown",
   "id": "b5c1b948-87d9-4b6a-85ff-e0eadd70cf07",
   "metadata": {},
   "source": [
    "# Projeto 2: Como pegar dados em sites e automatizar a criação da carteira do nosso modelo de investimento.\n",
    "\n",
    "### Desafio:\n",
    "\n",
    "* Construir um código que vá no fundamentus.com e busque dados de todos os indicadores da bolsa brasileira e gere a carteira selecionando as maiores ev_ebit e roic.    \n",
    "\n",
    "\n",
    "### Passo a passo:\n",
    "\n",
    "   **Passo 1** - Definir um navegador que você irá utilizar para navegar com o Python.\n",
    "\n",
    "   **Passo 2** - Importar os módulos e bibliotecas.\n",
    "   \n",
    "   **Passo 3** - Entender como sites e requisições na internet funcionam.\n",
    "   \n",
    "   **Passo 4** - Conhecer e mapear o processo de coleta de dados no site do Fundamentus. \n",
    "   \n",
    "   **Passo 5** - Ler a tabela de dados.\n",
    "   \n",
    "   **Passo 6** - Construir a tabela final."
   ]
  },
  {
   "cell_type": "markdown",
   "id": "05432313-72f7-4eb4-a379-769cdbbe7067",
   "metadata": {},
   "source": [
    "# Passo 1: Escolher o navegador.\n",
    "\n",
    "No nosso caso, utilizaremos o Google Chrome. "
   ]
  },
  {
   "cell_type": "markdown",
   "id": "3b9a38ba-e4b0-473a-a897-d9ac76f1e0ff",
   "metadata": {},
   "source": [
    "# Passo 2: Importar as bibliotecas."
   ]
  },
  {
   "cell_type": "code",
   "execution_count": null,
   "id": "6621e0d4-9213-4a8d-b387-6fe719610002",
   "metadata": {},
   "outputs": [],
   "source": [
    "from selenium import webdriver\n",
    "from selenium.webdriver.chrome.service import Service\n",
    "from webdriver_manager.chrome import ChromeDriverManager\n",
    "import pandas as pd"
   ]
  },
  {
   "cell_type": "markdown",
   "id": "3125cb7e-8d18-49ab-9dc1-42a5fa76e5d6",
   "metadata": {},
   "source": [
    "# Passo 3: Entender como sites e requisições na internet funcionam."
   ]
  },
  {
   "cell_type": "code",
   "execution_count": null,
   "id": "f98e7f83-3b05-479d-9cf7-179e842314b9",
   "metadata": {},
   "outputs": [],
   "source": [
    "driver = webdriver.Chrome(service=Service(ChromeDriverManager().install()))"
   ]
  },
  {
   "cell_type": "code",
   "execution_count": null,
   "id": "22395e88-1cf7-4d8a-aee1-f2191fc9964f",
   "metadata": {},
   "outputs": [],
   "source": [
    "url = 'https://www.fundamentus.com.br/resultado.php'\n",
    "\n",
    "driver.get(url)"
   ]
  },
  {
   "cell_type": "markdown",
   "id": "08151283-fdaa-42ff-aa4f-81d8c34affef",
   "metadata": {},
   "source": [
    "# Passo 4: Mapear o processo de coleta de dados no site do Fundamentus.\n",
    "\n",
    "https://www.fundamentus.com.br/index.php"
   ]
  },
  {
   "cell_type": "markdown",
   "id": "c0be7e88-6cbb-4695-9aa0-f40640888fd9",
   "metadata": {},
   "source": [
    "# Passo 5 - Ler a tabela de dados."
   ]
  },
  {
   "cell_type": "code",
   "execution_count": null,
   "id": "0c2ae1be-2210-47fd-87b8-2bbb1b1dbf9f",
   "metadata": {},
   "outputs": [],
   "source": [
    "local_tabela = '/html/body/div[1]/div[2]/table'\n",
    "\n",
    "elemento = driver.find_element(\"xpath\", local_tabela)\n",
    "\n",
    "html_tabela = elemento.get_attribute('outerHTML')\n",
    "\n",
    "tabela = pd.read_html(str(html_tabela), thousands = '.', decimal = ',')[0]"
   ]
  },
  {
   "cell_type": "markdown",
   "id": "db831ecd-372b-4dca-8846-dc95355f1349",
   "metadata": {},
   "source": [
    "# Passo 6 - Construir a tabela final."
   ]
  },
  {
   "cell_type": "code",
   "execution_count": null,
   "id": "e615ad74-d44a-4cc7-840e-341569f0b6e5",
   "metadata": {},
   "outputs": [],
   "source": [
    "tabela = tabela.set_index(\"Papel\")\n",
    "tabela = tabela[['Cotação', 'EV/EBIT', 'ROIC', 'Liq.2meses']]\n",
    "\n",
    "tabela"
   ]
  },
  {
   "cell_type": "code",
   "execution_count": null,
   "id": "c7902aa5-d0d1-44d1-8f68-cc3c129c45c6",
   "metadata": {},
   "outputs": [],
   "source": [
    "tabela['ROIC'] = tabela['ROIC'].str.replace(\"%\", \"\")\n",
    "tabela['ROIC'] = tabela['ROIC'].str.replace(\".\", \"\")\n",
    "tabela['ROIC'] = tabela['ROIC'].str.replace(\",\", \".\")\n",
    "tabela['ROIC'] = tabela['ROIC'].astype(float)"
   ]
  },
  {
   "cell_type": "code",
   "execution_count": null,
   "id": "a2146ed4-5731-41b2-82d1-9d86fd8eb717",
   "metadata": {},
   "outputs": [],
   "source": [
    "tabela = tabela[tabela['Liq.2meses'] > 1000000]"
   ]
  },
  {
   "cell_type": "code",
   "execution_count": null,
   "id": "ce89cb8a-c991-4f90-a859-8ba78d1281d4",
   "metadata": {},
   "outputs": [],
   "source": [
    "tabela = tabela[tabela['EV/EBIT'] > 0]\n",
    "tabela = tabela[tabela['ROIC'] > 0]"
   ]
  },
  {
   "cell_type": "code",
   "execution_count": null,
   "id": "5c30f85f-006b-450c-95f2-9a0d811eefa2",
   "metadata": {},
   "outputs": [],
   "source": [
    "tabela['ranking_ev_ebit'] = tabela['EV/EBIT'].rank(ascending = True)\n",
    "tabela['ranking_roic'] = tabela['ROIC'].rank(ascending = False)\n",
    "tabela['ranking_total'] = tabela['ranking_ev_ebit'] + tabela['ranking_roic']\n",
    "\n",
    "tabela = tabela.sort_values('ranking_total')\n",
    "\n",
    "tabela.head(10)"
   ]
  },
  {
   "cell_type": "code",
   "execution_count": null,
   "id": "72c64fb4-fa3b-454b-835a-e075f8359e95",
   "metadata": {},
   "outputs": [],
   "source": []
  },
  {
   "cell_type": "code",
   "execution_count": null,
   "id": "9bf4432f-ece8-44c6-8eff-033ce98d1c1c",
   "metadata": {},
   "outputs": [],
   "source": []
  },
  {
   "cell_type": "code",
   "execution_count": null,
   "id": "72b1dd95-e645-4e92-8968-2222f0cbdc2a",
   "metadata": {},
   "outputs": [],
   "source": []
  },
  {
   "cell_type": "code",
   "execution_count": null,
   "id": "9585ea5a-be38-4b85-8a2e-ced7f06053ff",
   "metadata": {},
   "outputs": [],
   "source": []
  },
  {
   "cell_type": "code",
   "execution_count": null,
   "id": "f9fb9581-9dff-4c0c-9309-52796414213d",
   "metadata": {},
   "outputs": [],
   "source": []
  },
  {
   "cell_type": "code",
   "execution_count": null,
   "id": "ded477ab-0ec2-4e5d-a055-68f581deb581",
   "metadata": {},
   "outputs": [],
   "source": []
  },
  {
   "cell_type": "code",
   "execution_count": null,
   "id": "3a5b72c7-0353-47bf-a465-a9f329ca2866",
   "metadata": {},
   "outputs": [],
   "source": []
  },
  {
   "cell_type": "code",
   "execution_count": null,
   "id": "175600bb-acd0-4eae-8e35-d03a3d159baf",
   "metadata": {},
   "outputs": [],
   "source": []
  },
  {
   "cell_type": "code",
   "execution_count": null,
   "id": "148e5511-0eb3-469c-ac1e-bf099409beb8",
   "metadata": {},
   "outputs": [],
   "source": []
  },
  {
   "cell_type": "code",
   "execution_count": null,
   "id": "ab66846b-ff08-4cae-a2ad-b56694e51ba4",
   "metadata": {},
   "outputs": [],
   "source": []
  },
  {
   "cell_type": "code",
   "execution_count": null,
   "id": "038794c3-2bf1-4e40-b2ef-ea9d44782b7c",
   "metadata": {},
   "outputs": [],
   "source": []
  }
 ],
 "metadata": {
  "kernelspec": {
   "display_name": "Python 3 (ipykernel)",
   "language": "python",
   "name": "python3"
  },
  "language_info": {
   "codemirror_mode": {
    "name": "ipython",
    "version": 3
   },
   "file_extension": ".py",
   "mimetype": "text/x-python",
   "name": "python",
   "nbconvert_exporter": "python",
   "pygments_lexer": "ipython3",
   "version": "3.11.7"
  }
 },
 "nbformat": 4,
 "nbformat_minor": 5
}
