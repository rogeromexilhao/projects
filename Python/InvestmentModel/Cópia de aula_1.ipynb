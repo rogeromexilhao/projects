{
 "cells": [
  {
   "cell_type": "markdown",
   "id": "d7660c8c-10c5-4345-a751-811cc99713c2",
   "metadata": {},
   "source": [
    "# Projeto 1 - Backtest modelo de investimento Magic Formula.\n",
    "\n",
    "\n",
    "### Desafio:\n",
    "\n",
    "* Testar se a regra de investimento da fórmula mágica, do Joel Grenblatt, funcionou no Brasil nos últimos anos.\n",
    "\n",
    "\n",
    "### Passo a passo:\n",
    "\n",
    "   **Passo 1** - Importar os módulos e bibliotecas.\n",
    "   \n",
    "   **Passo 2** - Baixar os dados disponibilizados.\n",
    "   \n",
    "   **Passo 3** - Calcular os retornos mensais das empresas\n",
    "   \n",
    "   **Passo 4** - Filtrar  a liquidez.\n",
    "   \n",
    "   **Passo 5** - Criar o ranking dos indicadores.\n",
    "   \n",
    "   **Passo 6** - Criar as carteiras. \n",
    "   \n",
    "   **Passo 7** - Calcular a rentabilidade por carteira.\n",
    "   \n",
    "   **Passo 8** - Calcular a rentabilidade do modelo.\n",
    "\n",
    "   **Passo 9** - Calcular a rentabilidade do ibovespa no mesmo período.\n",
    "\n",
    "   \n",
    "   ##### **Passo 10** - Analisar os resultados.\n",
    "   \n",
    "-------------------"
   ]
  },
  {
   "cell_type": "markdown",
   "id": "0163604d-46a8-4482-9394-29f91eac11cd",
   "metadata": {},
   "source": [
    "# Passo 1: Importando os módulos necessários"
   ]
  },
  {
   "cell_type": "code",
   "execution_count": null,
   "id": "16a02c5b-0aba-4a00-9633-450fbff8c630",
   "metadata": {},
   "outputs": [],
   "source": [
    "#!pip install quantstats"
   ]
  },
  {
   "cell_type": "code",
   "execution_count": null,
   "id": "1c3ea270-4001-462b-af2d-cfdcc10c559c",
   "metadata": {},
   "outputs": [],
   "source": [
    "import pandas as pd\n",
    "import quantstats as qs "
   ]
  },
  {
   "cell_type": "markdown",
   "id": "218e1810-4237-4b56-beee-1be3aa7cb37a",
   "metadata": {},
   "source": [
    "# Passo 2: Baixar os dados dispobinilizados."
   ]
  },
  {
   "cell_type": "code",
   "execution_count": null,
   "id": "cc35db18-ccf4-4de3-984c-b0e60ee19b77",
   "metadata": {},
   "outputs": [],
   "source": [
    "dados_empresas = pd.read_csv(\"dados_empresas.csv\")"
   ]
  },
  {
   "cell_type": "markdown",
   "id": "1bfe5d4f-b9d3-4230-8c9f-f55ad84240d8",
   "metadata": {},
   "source": [
    "# Passo 3: Calcular os retornos mensais das empresas."
   ]
  },
  {
   "cell_type": "code",
   "execution_count": null,
   "id": "38690f28-15cb-4d64-b041-e1e161ea0e1e",
   "metadata": {},
   "outputs": [],
   "source": [
    "dados_empresas['retorno'] = dados_empresas.groupby('ticker')['preco_fechamento_ajustado'].pct_change()\n",
    "dados_empresas['retorno'] = dados_empresas.groupby('ticker')['retorno'].shift(-1) "
   ]
  },
  {
   "cell_type": "markdown",
   "id": "266e7668-36c5-4bfb-9561-d829224fc13a",
   "metadata": {},
   "source": [
    "# Passo 4: Filtrar a liquidez."
   ]
  },
  {
   "cell_type": "code",
   "execution_count": null,
   "id": "ef531f2b-b239-4981-a6bb-54e3145f028a",
   "metadata": {},
   "outputs": [],
   "source": [
    "dados_empresas = dados_empresas[dados_empresas['volume_negociado'] > 1000000]"
   ]
  },
  {
   "cell_type": "markdown",
   "id": "751d3729-cb6e-4bfa-a67b-92b9b8f00856",
   "metadata": {},
   "source": [
    "# Passo 5: Criar o ranking dos indicadores."
   ]
  },
  {
   "cell_type": "code",
   "execution_count": null,
   "id": "8f844d77-8512-49d7-9582-f8039606cd0f",
   "metadata": {},
   "outputs": [],
   "source": [
    "dados_empresas['ranking_ev_ebit'] = dados_empresas.groupby('data')['ebit_ev'].rank(ascending = False)\n",
    "dados_empresas['ranking_roic'] = dados_empresas.groupby('data')['roic'].rank(ascending = False)\n",
    "\n",
    "dados_empresas['ranking_final'] = dados_empresas['ranking_ev_ebit'] + dados_empresas['ranking_roic']\n",
    "dados_empresas['ranking_final'] = dados_empresas.groupby('data')['ranking_final'].rank()"
   ]
  },
  {
   "cell_type": "code",
   "execution_count": null,
   "id": "5eae75d9-f85f-404f-9894-503286a1b527",
   "metadata": {},
   "outputs": [],
   "source": [
    "dados_empresas[dados_empresas['data'] == '2017-06-30'].sort_values('ranking_final').head(20)"
   ]
  },
  {
   "cell_type": "markdown",
   "id": "c6ffd6c4-4faa-4ff7-b58d-9cf67125046c",
   "metadata": {},
   "source": [
    "# Passo 6: Criar  as carteiras. "
   ]
  },
  {
   "cell_type": "code",
   "execution_count": null,
   "id": "7af77765-0015-4f59-9744-2f2de5985a4e",
   "metadata": {},
   "outputs": [],
   "source": [
    "dados_empresas = dados_empresas[dados_empresas['ranking_final'] <= 10]"
   ]
  },
  {
   "cell_type": "markdown",
   "id": "9fa7b5ef-62ef-4ef4-b494-d61bd836f9cc",
   "metadata": {},
   "source": [
    "# Passo 7: Calcular a rentabilidade por carteira."
   ]
  },
  {
   "cell_type": "code",
   "execution_count": null,
   "id": "8ce21466-63a8-4414-ab81-5897d584cbfd",
   "metadata": {},
   "outputs": [],
   "source": [
    "rentabilidade_por_carteiras = dados_empresas.groupby('data')['retorno'].mean()\n",
    "rentabilidade_por_carteiras = rentabilidade_por_carteiras.to_frame()"
   ]
  },
  {
   "cell_type": "markdown",
   "id": "7f86286f-f27c-4d3e-ba5d-4de4d1fa7bc7",
   "metadata": {},
   "source": [
    "# Passo 8: Calcular a rentabilidade do modelo."
   ]
  },
  {
   "cell_type": "code",
   "execution_count": null,
   "id": "9ca3f440-49de-4400-8549-c862e5528c40",
   "metadata": {},
   "outputs": [],
   "source": [
    "rentabilidade_por_carteiras['Magic Formula'] = (rentabilidade_por_carteiras['retorno'] + 1).cumprod() - 1\n",
    "\n",
    "rentabilidade_por_carteiras = rentabilidade_por_carteiras.shift(1)\n",
    "\n",
    "rentabilidade_por_carteiras = rentabilidade_por_carteiras.dropna()"
   ]
  },
  {
   "cell_type": "markdown",
   "id": "ab912cf0-277f-48e0-8882-33160a4707d1",
   "metadata": {},
   "source": [
    "# Passo 9: Calcular a rentabilidade do ibovespa no mesmo período."
   ]
  },
  {
   "cell_type": "code",
   "execution_count": null,
   "id": "692751b8-aa76-495e-9be4-45499fc2896e",
   "metadata": {},
   "outputs": [],
   "source": [
    "ibov = pd.read_csv('ibov.csv')\n",
    "\n",
    "retornos_ibov = ibov['fechamento'].pct_change().dropna()\n",
    "retorno_acum_ibov = (1 + retornos_ibov).cumprod() - 1\n",
    "rentabilidade_por_carteiras['Ibovespa'] = retorno_acum_ibov.values\n",
    "rentabilidade_por_carteiras = rentabilidade_por_carteiras.drop('retorno', axis = 1)"
   ]
  },
  {
   "cell_type": "markdown",
   "id": "dfe0ddb2-411f-45f8-8cf6-314752bc081c",
   "metadata": {},
   "source": [
    "# Passo 10: Analisar os resultados."
   ]
  },
  {
   "cell_type": "code",
   "execution_count": null,
   "id": "bba313f7-6e78-4f4a-a182-fee8d10332b6",
   "metadata": {},
   "outputs": [],
   "source": [
    "qs.extend_pandas()\n",
    "rentabilidade_por_carteiras.index = pd.to_datetime(rentabilidade_por_carteiras.index)\n",
    "\n",
    "rentabilidade_por_carteiras['Magic Formula'].plot_monthly_heatmap()\n",
    "rentabilidade_por_carteiras['Ibovespa'].plot_monthly_heatmap()"
   ]
  },
  {
   "cell_type": "code",
   "execution_count": null,
   "id": "7677ff0d-91ea-4150-90b2-0421fc024c91",
   "metadata": {},
   "outputs": [],
   "source": [
    "rentabilidade_por_carteiras.plot(figsize = (7, 4))"
   ]
  },
  {
   "cell_type": "code",
   "execution_count": null,
   "id": "ff6f998d-4f6b-4ef1-b7e8-7c34f13e3cf2",
   "metadata": {},
   "outputs": [],
   "source": []
  },
  {
   "cell_type": "code",
   "execution_count": null,
   "id": "f753b8b3-c004-4f9b-a96b-ce599c404919",
   "metadata": {},
   "outputs": [],
   "source": []
  },
  {
   "cell_type": "code",
   "execution_count": null,
   "id": "97682a17-a7ca-4515-9588-2f670cb01a69",
   "metadata": {},
   "outputs": [],
   "source": []
  },
  {
   "cell_type": "code",
   "execution_count": null,
   "id": "54d598a5-7be2-4026-9bb6-db38766c1b6e",
   "metadata": {},
   "outputs": [],
   "source": []
  },
  {
   "cell_type": "code",
   "execution_count": null,
   "id": "95b9be94-6b3f-43f3-a4ef-4dbe8da453c2",
   "metadata": {},
   "outputs": [],
   "source": []
  },
  {
   "cell_type": "code",
   "execution_count": null,
   "id": "ccbfdf96-240a-4244-995e-389c5968374f",
   "metadata": {},
   "outputs": [],
   "source": []
  },
  {
   "cell_type": "code",
   "execution_count": null,
   "id": "0dc728c8-fb89-47a9-9844-ddaa34cb4de1",
   "metadata": {},
   "outputs": [],
   "source": []
  },
  {
   "cell_type": "code",
   "execution_count": null,
   "id": "d11f05a9-fc75-43a7-9e13-dc671b3dfda8",
   "metadata": {},
   "outputs": [],
   "source": []
  },
  {
   "cell_type": "code",
   "execution_count": null,
   "id": "06e7f392-bee7-43f4-8268-cfe99d0c0589",
   "metadata": {},
   "outputs": [],
   "source": []
  },
  {
   "cell_type": "code",
   "execution_count": null,
   "id": "b7eabe4d-42ec-4407-8c9a-5c1ced59f637",
   "metadata": {},
   "outputs": [],
   "source": []
  },
  {
   "cell_type": "code",
   "execution_count": null,
   "id": "ff9a84f8-7285-49b4-8f61-2fbf061920ba",
   "metadata": {},
   "outputs": [],
   "source": []
  },
  {
   "cell_type": "code",
   "execution_count": null,
   "id": "3fcd6f6a-2f50-496f-9f3e-7b2a80758aed",
   "metadata": {},
   "outputs": [],
   "source": []
  },
  {
   "cell_type": "code",
   "execution_count": null,
   "id": "e1a3649c-e248-4f71-ada6-1c3226e59202",
   "metadata": {},
   "outputs": [],
   "source": []
  },
  {
   "cell_type": "code",
   "execution_count": null,
   "id": "b67f10b6-a697-4a8d-ae80-3e48de3a1931",
   "metadata": {},
   "outputs": [],
   "source": []
  },
  {
   "cell_type": "code",
   "execution_count": null,
   "id": "bdd761ca-6e73-4238-b964-ba1edddbe221",
   "metadata": {},
   "outputs": [],
   "source": []
  },
  {
   "cell_type": "code",
   "execution_count": null,
   "id": "e9085888-1cc0-400e-a7f8-f6870ae28329",
   "metadata": {},
   "outputs": [],
   "source": []
  },
  {
   "cell_type": "code",
   "execution_count": null,
   "id": "a3e86d6b-7c2c-4530-80a2-e87c3327baa5",
   "metadata": {},
   "outputs": [],
   "source": []
  },
  {
   "cell_type": "code",
   "execution_count": null,
   "id": "138f2f0c-282c-4e3e-aa01-a992d99840ea",
   "metadata": {},
   "outputs": [],
   "source": []
  },
  {
   "cell_type": "code",
   "execution_count": null,
   "id": "f2a75cb9-25ce-45b5-ae89-9a2fb3bbc2b0",
   "metadata": {},
   "outputs": [],
   "source": []
  },
  {
   "cell_type": "code",
   "execution_count": null,
   "id": "9d33ecde-68cb-4ff7-9cc4-fb8ddec7ce8d",
   "metadata": {},
   "outputs": [],
   "source": []
  },
  {
   "cell_type": "code",
   "execution_count": null,
   "id": "347d96b3-8040-4d11-88eb-edcf9119bd86",
   "metadata": {},
   "outputs": [],
   "source": []
  },
  {
   "cell_type": "code",
   "execution_count": null,
   "id": "ede1a0b2-5c37-4c1d-a4a0-56e75a239b00",
   "metadata": {},
   "outputs": [],
   "source": []
  },
  {
   "cell_type": "code",
   "execution_count": null,
   "id": "bd47b991-e766-4b29-b4e4-1620c501e14c",
   "metadata": {},
   "outputs": [],
   "source": []
  },
  {
   "cell_type": "code",
   "execution_count": null,
   "id": "9a85e7fa-adb7-45c8-9474-e0264abc06aa",
   "metadata": {},
   "outputs": [],
   "source": []
  },
  {
   "cell_type": "code",
   "execution_count": null,
   "id": "230de8ef-3548-4f26-96ca-78c1a0e96703",
   "metadata": {},
   "outputs": [],
   "source": []
  },
  {
   "cell_type": "code",
   "execution_count": null,
   "id": "fb4fd7eb-44ba-4a5d-b905-715216089563",
   "metadata": {},
   "outputs": [],
   "source": []
  }
 ],
 "metadata": {
  "kernelspec": {
   "display_name": "Python 3 (ipykernel)",
   "language": "python",
   "name": "python3"
  },
  "language_info": {
   "codemirror_mode": {
    "name": "ipython",
    "version": 3
   },
   "file_extension": ".py",
   "mimetype": "text/x-python",
   "name": "python",
   "nbconvert_exporter": "python",
   "pygments_lexer": "ipython3",
   "version": "3.11.7"
  }
 },
 "nbformat": 4,
 "nbformat_minor": 5
}
