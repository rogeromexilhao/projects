{
 "cells": [
  {
   "cell_type": "markdown",
   "metadata": {},
   "source": [
    "# Projeto 3: Operando no MetaTrader e comprando as ações indicadas pelo modelo.\n",
    "\n",
    "### Desafio:\n",
    "\n",
    "* Construir um código que se conecte direto na bolsa e compre as ações indicadas.\n",
    "   \n",
    "### Passo a passo do código? \n",
    "\n",
    "   **Passo 1** - Rodar o código da aula anterior.\n",
    "   \n",
    "   **Passo 2** - Baixar e configurar o MetaTrader pra sua conta em uma corretora.\n",
    "   \n",
    "   **Passo 3** - Importar as bibliotecas. \n",
    "\n",
    "   **Passo 4** - Inicializar o MetaTrader. \n",
    "   \n",
    "   **Passo 5** - Configurar o dicionário da ordem e comprar ações."
   ]
  },
  {
   "cell_type": "markdown",
   "metadata": {},
   "source": [
    "# Passo 1: Rodar o código da aula anterior. "
   ]
  },
  {
   "cell_type": "code",
   "execution_count": null,
   "metadata": {},
   "outputs": [],
   "source": [
    "from selenium import webdriver\n",
    "from selenium.webdriver.chrome.service import Service\n",
    "from webdriver_manager.chrome import ChromeDriverManager\n",
    "import pandas as pd"
   ]
  },
  {
   "cell_type": "code",
   "execution_count": null,
   "metadata": {},
   "outputs": [],
   "source": [
    "driver = webdriver.Chrome(service=Service(ChromeDriverManager().install()))\n",
    "\n",
    "url = 'https://www.fundamentus.com.br/resultado.php'\n",
    "\n",
    "driver.get(url)\n",
    "local_tabela = '/html/body/div[1]/div[2]/table'\n",
    "elemento = driver.find_element(\"xpath\", local_tabela)\n",
    "html_tabela = elemento.get_attribute('outerHTML')\n",
    "tabela = pd.read_html(str(html_tabela), thousands = '.')[0]\n",
    "\n",
    "tabela = tabela.set_index(\"Papel\")\n",
    "for col in tabela.columns:\n",
    "\n",
    "    tabela[col] = tabela[col].str.replace(\"%\", \"\")\n",
    "    tabela[col] = tabela[col].str.replace(\".\", \"\")\n",
    "    tabela[col] = tabela[col].str.replace(\",\", \".\")\n",
    "    tabela[col] = tabela[col].astype(float)\n",
    "\n",
    "tabela = tabela[['Cotação', 'EV/EBIT', 'ROIC', 'Liq.2meses']]\n",
    "tabela = tabela[tabela['Liq.2meses'] > 1000000]\n",
    "tabela = tabela[tabela['EV/EBIT'] > 0]\n",
    "tabela = tabela[tabela['ROIC'] > 0]\n",
    "\n",
    "tabela['ranking_ev_ebit'] = tabela['EV/EBIT'].rank(ascending = True)\n",
    "tabela['ranking_roic'] = tabela['ROIC'].rank(ascending = False)\n",
    "tabela['ranking_total'] = tabela['ranking_ev_ebit'] + tabela['ranking_roic']\n",
    "tabela = tabela.sort_values('ranking_total')\n",
    "driver.quit()"
   ]
  },
  {
   "cell_type": "code",
   "execution_count": null,
   "metadata": {},
   "outputs": [],
   "source": [
    "tabela = tabela.head(10)\n",
    "\n",
    "tickers = tabela.index\n",
    "\n",
    "tickers"
   ]
  },
  {
   "cell_type": "markdown",
   "metadata": {},
   "source": [
    "# Passo 2: Baixar e configurar o MT5.\n",
    "\n",
    "* Cada corretora é de uma forma. Pesquise como é feito na sua.\n",
    "* Conta demo, sempre!"
   ]
  },
  {
   "cell_type": "markdown",
   "metadata": {},
   "source": [
    "# Passo 3: Importar a biblioteca."
   ]
  },
  {
   "cell_type": "code",
   "execution_count": null,
   "metadata": {},
   "outputs": [],
   "source": [
    "import MetaTrader5 as mt5"
   ]
  },
  {
   "cell_type": "markdown",
   "metadata": {},
   "source": [
    "# Passo 4: Inicializar o MT5."
   ]
  },
  {
   "cell_type": "code",
   "execution_count": null,
   "metadata": {},
   "outputs": [],
   "source": [
    "mt5.initialize()"
   ]
  },
  {
   "cell_type": "markdown",
   "metadata": {},
   "source": [
    "# Passo 6: Configurar o dicionário da ordem e comprar ações.\n",
    "\n",
    "https://www.mql5.com/en/docs/python_metatrader5"
   ]
  },
  {
   "cell_type": "code",
   "execution_count": null,
   "metadata": {},
   "outputs": [],
   "source": [
    "for ticker in tickers:\n",
    "\n",
    "    print(ticker)\n",
    "\n",
    "    info_acoes = mt5.symbol_info(ticker)\n",
    "    mt5.symbol_select(ticker)\n",
    "    tick_min = mt5.symbol_info(ticker).point\n",
    "    preco = mt5.symbol_info_tick(ticker).ask\n",
    "    quantidade = 100.0\n",
    "    ordem_compra = {\n",
    "        \"action\": mt5.TRADE_ACTION_DEAL,\n",
    "        \"symbol\": ticker,\n",
    "        \"volume\": quantidade,\n",
    "        \"type\": mt5.ORDER_TYPE_BUY,\n",
    "        \"price\": preco,\n",
    "        \"magic\": 1,\n",
    "        \"comment\": \"Trades automáticos\",\n",
    "        \"type_time\": mt5.ORDER_TIME_DAY,\n",
    "        \"type_filling\": mt5.ORDER_FILLING_RETURN,\n",
    "    }\n",
    "    result_compra = mt5.order_send(ordem_compra)"
   ]
  },
  {
   "cell_type": "code",
   "execution_count": null,
   "metadata": {},
   "outputs": [],
   "source": []
  },
  {
   "cell_type": "code",
   "execution_count": null,
   "metadata": {},
   "outputs": [],
   "source": []
  },
  {
   "cell_type": "code",
   "execution_count": null,
   "metadata": {},
   "outputs": [],
   "source": []
  }
 ],
 "metadata": {
  "kernelspec": {
   "display_name": "base",
   "language": "python",
   "name": "python3"
  },
  "language_info": {
   "codemirror_mode": {
    "name": "ipython",
    "version": 3
   },
   "file_extension": ".py",
   "mimetype": "text/x-python",
   "name": "python",
   "nbconvert_exporter": "python",
   "pygments_lexer": "ipython3",
   "version": "3.11.7"
  }
 },
 "nbformat": 4,
 "nbformat_minor": 2
}
